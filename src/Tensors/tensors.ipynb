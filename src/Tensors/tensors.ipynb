{
 "cells": [
  {
   "cell_type": "code",
   "execution_count": 24,
   "metadata": {},
   "outputs": [
    {
     "data": {
      "text/plain": [
       "(α, β)"
      ]
     },
     "metadata": {},
     "output_type": "display_data"
    }
   ],
   "source": [
    "using Revise\n",
    "using QFT\n",
    "using Symbolics\n",
    "@syms α β "
   ]
  },
  {
   "cell_type": "code",
   "execution_count": 2,
   "metadata": {},
   "outputs": [
    {
     "data": {
      "text/latex": [
       "$$ \\begin{equation}\n",
       "A {}_{\\mu}{}_{\\nu}{}^{\\rho}{}^{\\tau}\n",
       "\\end{equation}\n",
       " $$"
      ],
      "text/plain": [
       "A_μν^ρτ"
      ]
     },
     "metadata": {},
     "output_type": "display_data"
    }
   ],
   "source": [
    "A = @Tensor A_μν^ρτ"
   ]
  },
  {
   "cell_type": "code",
   "execution_count": 3,
   "metadata": {},
   "outputs": [
    {
     "data": {
      "text/plain": [
       "B"
      ]
     },
     "metadata": {},
     "output_type": "display_data"
    }
   ],
   "source": [
    "@field MyField\n",
    "@operator MyField B"
   ]
  },
  {
   "cell_type": "code",
   "execution_count": 4,
   "metadata": {},
   "outputs": [
    {
     "data": {
      "text/latex": [
       "$$ \\begin{equation}\n",
       "B {}_{\\rho}{}_{\\tau}\n",
       "\\end{equation}\n",
       " $$"
      ],
      "text/plain": [
       "B_ρτ"
      ]
     },
     "metadata": {},
     "output_type": "display_data"
    }
   ],
   "source": [
    "B_ = @Tensor B_ρτ"
   ]
  },
  {
   "cell_type": "code",
   "execution_count": 5,
   "metadata": {},
   "outputs": [
    {
     "data": {
      "text/latex": [
       "$$ \\begin{equation}\n",
       "A {}_{\\mu}{}_{\\nu}{}^{\\rho}{}^{\\tau} B {}_{\\rho}{}_{\\tau}\n",
       "\\end{equation}\n",
       " $$"
      ],
      "text/plain": [
       "A_μν^ρτ B_ρτ"
      ]
     },
     "metadata": {},
     "output_type": "display_data"
    }
   ],
   "source": [
    "A * B_"
   ]
  },
  {
   "cell_type": "code",
   "execution_count": 6,
   "metadata": {},
   "outputs": [
    {
     "data": {
      "text/latex": [
       "$$ \\begin{equation}\n",
       "- B { } _ { \\rho } { } _ { \\tau }\n",
       "\\end{equation}\n",
       " $$"
      ],
      "text/plain": [
       "-B_ρτ"
      ]
     },
     "metadata": {},
     "output_type": "display_data"
    }
   ],
   "source": [
    "-B_"
   ]
  },
  {
   "cell_type": "code",
   "execution_count": 7,
   "metadata": {},
   "outputs": [
    {
     "data": {
      "text/latex": [
       "$$ \\begin{equation}\n",
       "- B { } _ { \\rho } { } _ { \\tau }\n",
       "\\end{equation}\n",
       " $$"
      ],
      "text/plain": [
       "-B_ρτ"
      ]
     },
     "metadata": {},
     "output_type": "display_data"
    }
   ],
   "source": [
    "B_ - 2B_"
   ]
  },
  {
   "cell_type": "code",
   "execution_count": 8,
   "metadata": {},
   "outputs": [
    {
     "data": {
      "text/latex": [
       "$$ \\begin{equation}\n",
       "- \\beta g { } _ { \\mu } { } _ { \\nu }   +   2 3 \\alpha A { } _ { \\mu } { } _ { \\nu } { } ^ { \\rho } { } ^ { \\tau } B { } _ { \\rho } { } _ { \\tau }   +   \\partial { } _ { \\mu } \\partial { } _ { \\nu }\n",
       "\\end{equation}\n",
       " $$"
      ],
      "text/plain": [
       "-βg_μν + 23αA_μν^ρτ B_ρτ + ∂_μ ∂_ν"
      ]
     },
     "metadata": {},
     "output_type": "display_data"
    }
   ],
   "source": [
    "α * A * 23B_ -β * g() + ∂() * ∂(@Index ν)"
   ]
  },
  {
   "cell_type": "code",
   "execution_count": 9,
   "metadata": {},
   "outputs": [
    {
     "data": {
      "text/latex": [
       "$$ \\begin{equation}\n",
       "\\beta g { } _ { \\mu } { } _ { \\nu }   +   \\partial { } _ { \\mu } \\partial { } _ { \\nu }\n",
       "\\end{equation}\n",
       " $$"
      ],
      "text/plain": [
       "βg_μν + ∂_μ ∂_ν"
      ]
     },
     "metadata": {},
     "output_type": "display_data"
    }
   ],
   "source": [
    "∂() * ∂(ν) + β * g(@Index(μ), @Index ν)"
   ]
  },
  {
   "cell_type": "code",
   "execution_count": 10,
   "metadata": {},
   "outputs": [
    {
     "data": {
      "text/latex": [
       "$$ \\begin{equation}\n",
       "2 T { } ^ { \\mu } { } _ { \\mu }\n",
       "\\end{equation}\n",
       " $$"
      ],
      "text/plain": [
       "2T^μ_μ"
      ]
     },
     "metadata": {},
     "output_type": "display_data"
    },
    {
     "data": {
      "text/latex": [
       "$$ \\begin{equation}\n",
       "T { } ^ { \\mu } { } _ { \\mu } { } _ { \\rho }   +   T { } _ { \\rho } { } _ { \\nu } { } ^ { \\nu }\n",
       "\\end{equation}\n",
       " $$"
      ],
      "text/plain": [
       "T^μ_μρ + T_ρν^ν"
      ]
     },
     "metadata": {},
     "output_type": "display_data"
    }
   ],
   "source": [
    "display(@Tensor(T^μ_μ) + @Tensor(T_ν^ν))\n",
    "@Tensor(T^μ_μρ) + @Tensor(T_ρν^ν)\n"
   ]
  },
  {
   "cell_type": "code",
   "execution_count": 11,
   "metadata": {},
   "outputs": [
    {
     "data": {
      "text/latex": [
       "$$ \\begin{equation}\n",
       "\\mathit{\\psi} P { } _ { \\mu } { } _ { \\nu } \\partial { } ^ { \\mu } \\partial { } ^ { \\nu } \\mathit{\\psi}   +   \\mathit{\\psi} \\partial { } ^ { \\mu } P { } _ { \\mu } { } _ { \\nu } \\partial { } ^ { \\nu } \\mathit{\\psi}\n",
       "\\end{equation}\n",
       " $$"
      ],
      "text/plain": [
       "𝜓 P_μν ∂^μ ∂^ν 𝜓 + 𝜓 ∂^μ P_μν ∂^ν 𝜓"
      ]
     },
     "metadata": {},
     "output_type": "display_data"
    }
   ],
   "source": [
    "@Indices μ ν ρ τ σ α β\n",
    "∂u(μ=@Index μ) = raise(∂(μ),μ)\n",
    "𝜓 = @Tensor(𝜓)\n",
    "ℒ = 𝜓 * (∂u() * (@Tensor(P_μν)) + (@Tensor(P_μν)) * ∂u()) * ∂u(ν) * 𝜓"
   ]
  },
  {
   "cell_type": "code",
   "execution_count": 23,
   "metadata": {},
   "outputs": [
    {
     "data": {
      "text/latex": [
       "$$ \\begin{equation}\n",
       "g { } _ { \\mu } { } ^ { \\mu } \\mathit{\\psi}   +   \\mathit{\\psi} g { } _ { \\mu } { } _ { \\nu } g { } ^ { \\mu } { } ^ { \\nu }\n",
       "\\end{equation}\n",
       " $$"
      ],
      "text/plain": [
       "g_μ^μ 𝜓 + 𝜓 g_μν g^μν"
      ]
     },
     "metadata": {},
     "output_type": "display_data"
    }
   ],
   "source": [
    "g(μ,raise(μ)) * 𝜓 + 𝜓 * g() * raiseAll(g())"
   ]
  },
  {
   "cell_type": "markdown",
   "metadata": {},
   "source": [
    "***\n",
    "\n",
    "***"
   ]
  }
 ],
 "metadata": {
  "kernelspec": {
   "display_name": "Julia 1.9.1",
   "language": "julia",
   "name": "julia-1.9"
  },
  "language_info": {
   "file_extension": ".jl",
   "mimetype": "application/julia",
   "name": "julia",
   "version": "1.9.1"
  },
  "orig_nbformat": 4
 },
 "nbformat": 4,
 "nbformat_minor": 2
}
