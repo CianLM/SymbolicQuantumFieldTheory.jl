{
 "cells": [
  {
   "cell_type": "code",
   "execution_count": 4,
   "metadata": {},
   "outputs": [
    {
     "data": {
      "text/plain": [
       "(p, q)"
      ]
     },
     "metadata": {},
     "output_type": "display_data"
    }
   ],
   "source": [
    "using QFT\n",
    "using Symbolics\n",
    "@syms p q"
   ]
  },
  {
   "cell_type": "code",
   "execution_count": 2,
   "metadata": {},
   "outputs": [
    {
     "data": {
      "text/plain": [
       "a"
      ]
     },
     "metadata": {},
     "output_type": "display_data"
    }
   ],
   "source": [
    "@operators ScalarField a"
   ]
  },
  {
   "cell_type": "code",
   "execution_count": 5,
   "metadata": {},
   "outputs": [
    {
     "data": {
      "text/latex": [
       "$$ \\begin{equation}\n",
       "2 \\pi \\delta\\left( p - q \\right)\n",
       "\\end{equation}\n",
       " $$"
      ],
      "text/plain": [
       "2π*δ(p - q)"
      ]
     },
     "metadata": {},
     "output_type": "display_data"
    }
   ],
   "source": [
    "comm(a(p),a(q)')"
   ]
  },
  {
   "cell_type": "code",
   "execution_count": 8,
   "metadata": {},
   "outputs": [
    {
     "data": {
      "text/latex": [
       "a_q^† a_p + 2π*δ(p - q)I"
      ],
      "text/plain": [
       "a_q^† a_p + 2π*δ(p - q)I"
      ]
     },
     "metadata": {},
     "output_type": "display_data"
    }
   ],
   "source": [
    "normalorder(a(p) * a(q)')"
   ]
  },
  {
   "cell_type": "code",
   "execution_count": 9,
   "metadata": {},
   "outputs": [
    {
     "data": {
      "text/latex": [
       "E(q)a_q^† a_q"
      ],
      "text/plain": [
       "E(q)a_q^† a_q"
      ]
     },
     "metadata": {},
     "output_type": "display_data"
    }
   ],
   "source": [
    "@syms E(p)\n",
    "ℋ =  E(q) * a(q)' * a(q)"
   ]
  },
  {
   "cell_type": "code",
   "execution_count": 10,
   "metadata": {},
   "outputs": [
    {
     "name": "stdout",
     "output_type": "stream",
     "text": [
      "2π*E(q)*δ(q - p)a_q^† + E(q)a_q^† a_p^† a_q\n"
     ]
    },
    {
     "name": "stdout",
     "output_type": "stream",
     "text": [
      "∫dq (E(q)a_q^† a_p^† a_q)  + 2π*E(p)a_p^†\n"
     ]
    },
    {
     "name": "stdout",
     "output_type": "stream",
     "text": [
      "\u001b[34mE(q)a_q^† a_p^† a_q\u001b[39m\n",
      "E(q)a_q^† a_p^† a_q\n",
      "\u001b[95m0\u001b[39m\n"
     ]
    },
    {
     "data": {
      "text/latex": [
       "2π*E(p)a_p^†|0⟩"
      ],
      "text/plain": [
       "2π*E(p)a_p^†|0⟩"
      ]
     },
     "metadata": {},
     "output_type": "display_data"
    }
   ],
   "source": [
    "integrate(ℋ * a(p)', q) * vacuum()"
   ]
  },
  {
   "cell_type": "code",
   "execution_count": null,
   "metadata": {},
   "outputs": [],
   "source": [
    "    "
   ]
  }
 ],
 "metadata": {
  "kernelspec": {
   "display_name": "Julia 1.6.2",
   "language": "julia",
   "name": "julia-1.6"
  },
  "language_info": {
   "file_extension": ".jl",
   "mimetype": "application/julia",
   "name": "julia",
   "version": "1.6.2"
  },
  "orig_nbformat": 4
 },
 "nbformat": 4,
 "nbformat_minor": 2
}
