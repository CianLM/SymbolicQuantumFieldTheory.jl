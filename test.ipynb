{
 "cells": [
  {
   "cell_type": "code",
   "execution_count": 1,
   "metadata": {},
   "outputs": [
    {
     "data": {
      "text/plain": [
       "(p, q)"
      ]
     },
     "metadata": {},
     "output_type": "display_data"
    }
   ],
   "source": [
    "using Revise\n",
    "using QFT\n",
    "using Symbolics\n",
    "@syms p q"
   ]
  },
  {
   "cell_type": "code",
   "execution_count": 2,
   "metadata": {},
   "outputs": [
    {
     "data": {
      "text/plain": [
       "a"
      ]
     },
     "metadata": {},
     "output_type": "display_data"
    }
   ],
   "source": [
    "@operators ScalarField a"
   ]
  },
  {
   "cell_type": "code",
   "execution_count": 3,
   "metadata": {},
   "outputs": [
    {
     "data": {
      "text/latex": [
       "$$ \\begin{equation}\n",
       "2 \\pi \\delta\\left( p - q \\right)\n",
       "\\end{equation}\n",
       " $$"
      ],
      "text/plain": [
       "2π*δ(p - q)"
      ]
     },
     "metadata": {},
     "output_type": "display_data"
    }
   ],
   "source": [
    "comm(a(p),a(q)')"
   ]
  },
  {
   "cell_type": "code",
   "execution_count": 4,
   "metadata": {},
   "outputs": [
    {
     "data": {
      "text/latex": [
       "$$ \\begin{equation}\n",
       "a _ q ^ \\dagger   a _ p   +   2 \\pi * \\delta ( p   -   q ) I\n",
       "\\end{equation}\n",
       " $$"
      ],
      "text/plain": [
       "a_q^† a_p + 2π*δ(p - q)I"
      ]
     },
     "metadata": {},
     "output_type": "display_data"
    }
   ],
   "source": [
    "normalorder(a(p) * a(q)')"
   ]
  },
  {
   "cell_type": "code",
   "execution_count": 5,
   "metadata": {},
   "outputs": [
    {
     "data": {
      "text/latex": [
       "$$ \\begin{equation}\n",
       "E ( q ) a _ q ^ \\dagger   a _ q\n",
       "\\end{equation}\n",
       " $$"
      ],
      "text/plain": [
       "E(q)a_q^† a_q"
      ]
     },
     "metadata": {},
     "output_type": "display_data"
    }
   ],
   "source": [
    "@syms E(p)\n",
    "ℋ =  E(q) * a(q)' * a(q)"
   ]
  },
  {
   "cell_type": "code",
   "execution_count": 42,
   "metadata": {},
   "outputs": [
    {
     "data": {
      "text/latex": [
       "$$ \\begin{equation}\n",
       "2 \\pi * E ( p ) a _ p ^ \\dagger | 0 \\rangle\n",
       "\\end{equation}\n",
       " $$"
      ],
      "text/plain": [
       "2π*E(p)a_p^†|0⟩"
      ]
     },
     "metadata": {},
     "output_type": "display_data"
    }
   ],
   "source": [
    "integrate(ℋ * a(p)', q) * vacuum()"
   ]
  },
  {
   "cell_type": "code",
   "execution_count": 41,
   "metadata": {},
   "outputs": [
    {
     "data": {
      "text/latex": [
       "$$ \\begin{equation}\n",
       "2 \\pi * E ( p ) a _ p ^ \\dagger | 0 \\rangle\n",
       "\\end{equation}\n",
       " $$"
      ],
      "text/plain": [
       "2π*E(p)a_p^†|0⟩"
      ]
     },
     "metadata": {},
     "output_type": "display_data"
    }
   ],
   "source": [
    "integrate(ℋ * a(p)' * vacuum(), q)"
   ]
  },
  {
   "cell_type": "code",
   "execution_count": 8,
   "metadata": {},
   "outputs": [
    {
     "data": {
      "text/latex": [
       "$$ \\begin{equation}\n",
       "a _{p - q} ^{\\dagger}\n",
       "\\end{equation}\n",
       " $$"
      ],
      "text/plain": [
       "a_{p - q}^†"
      ]
     },
     "metadata": {},
     "output_type": "display_data"
    }
   ],
   "source": [
    "@operators ScalarField a\n",
    "a(p-q)'"
   ]
  },
  {
   "cell_type": "code",
   "execution_count": 9,
   "metadata": {},
   "outputs": [
    {
     "data": {
      "text/latex": [
       "$$ \\begin{equation}\n",
       "a _{p - q} ^{\\dagger} a _{q}  a _{p} ^{\\dagger}\n",
       "\\end{equation}\n",
       " $$"
      ],
      "text/plain": [
       "a_{p - q}^† a_q a_p^†"
      ]
     },
     "metadata": {},
     "output_type": "display_data"
    }
   ],
   "source": [
    "a(p-q)' * a(q) * a(p)'"
   ]
  },
  {
   "cell_type": "code",
   "execution_count": 10,
   "metadata": {},
   "outputs": [
    {
     "data": {
      "text/latex": [
       "$$ \\begin{equation}\n",
       "p ^ 2 a _ { p   -   q } ^ \\dagger   a _ q   a _ p ^ \\dagger   +   5 i I\n",
       "\\end{equation}\n",
       " $$"
      ],
      "text/plain": [
       "p^2a_{p - q}^† a_q a_p^† + 5imI"
      ]
     },
     "metadata": {},
     "output_type": "display_data"
    }
   ],
   "source": [
    "p^2 * a(p-q)' * a(q) * a(p)' + 5 * im"
   ]
  },
  {
   "cell_type": "code",
   "execution_count": 40,
   "metadata": {},
   "outputs": [
    {
     "data": {
      "text/latex": [
       "$$ \\begin{equation}\n",
       "2 p * \\pi * \\delta ( q   -   p ) a _ { p   -   q } ^ \\dagger | 0 \\rangle   +   5 i | 0 \\rangle\n",
       "\\end{equation}\n",
       " $$"
      ],
      "text/plain": [
       "2p*π*δ(q - p)a_{p - q}^†|0⟩ + 5im|0⟩"
      ]
     },
     "metadata": {},
     "output_type": "display_data"
    }
   ],
   "source": [
    "(p * a(p-q)' * a(q) * a(p)' + 5 * im) * vacuum()"
   ]
  },
  {
   "cell_type": "code",
   "execution_count": 36,
   "metadata": {},
   "outputs": [
    {
     "data": {
      "text/latex": [
       "$$ \\begin{equation}\n",
       " \\left| 0\\right\\rangle\n",
       "\\end{equation}\n",
       " $$"
      ],
      "text/plain": [
       "|0⟩"
      ]
     },
     "metadata": {},
     "output_type": "display_data"
    }
   ],
   "source": [
    "vacuum()"
   ]
  },
  {
   "cell_type": "code",
   "execution_count": 43,
   "metadata": {},
   "outputs": [
    {
     "data": {
      "text/latex": [
       "$$ \\begin{equation}\n",
       "5 | 0 \\rangle\n",
       "\\end{equation}\n",
       " $$"
      ],
      "text/plain": [
       "5|0⟩"
      ]
     },
     "metadata": {},
     "output_type": "display_data"
    }
   ],
   "source": [
    "5*vacuum()\n"
   ]
  },
  {
   "cell_type": "code",
   "execution_count": 51,
   "metadata": {},
   "outputs": [
    {
     "data": {
      "text/latex": [
       "$$ \\begin{equation}\n",
       "a _ q ^ \\dagger   a _ p   +   2 \\pi * \\delta ( p   -   q ) I\n",
       "\\end{equation}\n",
       " $$"
      ],
      "text/plain": [
       "a_q^† a_p + 2π*δ(p - q)I"
      ]
     },
     "metadata": {},
     "output_type": "display_data"
    }
   ],
   "source": [
    "normalorder(a(p) * a(q)')"
   ]
  },
  {
   "cell_type": "code",
   "execution_count": 59,
   "metadata": {},
   "outputs": [
    {
     "data": {
      "text/latex": [
       "$$ \\begin{equation}\n",
       "2 \\pi \\delta\\left( q - p \\right)\n",
       "\\end{equation}\n",
       " $$"
      ],
      "text/plain": [
       "2π*δ(q - p)"
      ]
     },
     "metadata": {},
     "output_type": "display_data"
    }
   ],
   "source": [
    "vacuum()' * a(p) * a(q)' * vacuum()"
   ]
  },
  {
   "cell_type": "code",
   "execution_count": 61,
   "metadata": {},
   "outputs": [
    {
     "data": {
      "text/latex": [
       "$$ \\begin{equation}\n",
       "j _ p   k _ q ^ \\dagger\n",
       "\\end{equation}\n",
       " $$"
      ],
      "text/plain": [
       "j_p k_q^†"
      ]
     },
     "metadata": {},
     "output_type": "display_data"
    }
   ],
   "source": [
    "import QFT.comm\n",
    "@field TestField\n",
    "@operators TestField j k\n",
    "@comm [j(p), k(q)'] = j(p) * k(q)'\n",
    "comm(j(p), k(q)')"
   ]
  },
  {
   "cell_type": "code",
   "execution_count": 65,
   "metadata": {},
   "outputs": [
    {
     "data": {
      "text/latex": [
       "$$ \\begin{equation}\n",
       "j _ p   j _ q   k _ q ^ \\dagger   j _ p ^ \\dagger   +   k _ q   j _ p   k _ p ^ \\dagger   k _ q ^ \\dagger\n",
       "\\end{equation}\n",
       " $$"
      ],
      "text/plain": [
       "j_p j_q k_q^† j_p^† + k_q j_p k_p^† k_q^†"
      ]
     },
     "metadata": {},
     "output_type": "display_data"
    }
   ],
   "source": [
    "comm(j(p) * k(q)', k(q) * j(p)')"
   ]
  },
  {
   "cell_type": "code",
   "execution_count": 71,
   "metadata": {},
   "outputs": [
    {
     "data": {
      "text/latex": [
       "$$ \\begin{equation}\n",
       "j _ p   k _ p ^ \\dagger   k _ { - q }   k _ { p   +   q } ^ \\dagger   +   j _ p   j _ p ^ \\dagger   j _ { p   +   q }   k _ { - q } ^ \\dagger\n",
       "\\end{equation}\n",
       " $$"
      ],
      "text/plain": [
       "j_p k_p^† k_{-q} k_{p + q}^† + j_p j_p^† j_{p + q} k_{-q}^†"
      ]
     },
     "metadata": {},
     "output_type": "display_data"
    }
   ],
   "source": [
    "comm(j(p) * k(p+q)', j(p)' * k(-q))"
   ]
  }
 ],
 "metadata": {
  "kernelspec": {
   "display_name": "Julia 1.6.2",
   "language": "julia",
   "name": "julia-1.6"
  },
  "language_info": {
   "file_extension": ".jl",
   "mimetype": "application/julia",
   "name": "julia",
   "version": "1.6.2"
  },
  "orig_nbformat": 4
 },
 "nbformat": 4,
 "nbformat_minor": 2
}
