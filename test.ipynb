{
 "cells": [
  {
   "cell_type": "code",
   "execution_count": 2,
   "metadata": {},
   "outputs": [
    {
     "data": {
      "text/plain": [
       "(δ, E)"
      ]
     },
     "metadata": {},
     "output_type": "display_data"
    }
   ],
   "source": [
    "using Revise\n",
    "using QFT\n",
    "using Symbolics\n",
    "@syms p q k\n",
    "@syms δ(p) E(p)"
   ]
  },
  {
   "cell_type": "code",
   "execution_count": 3,
   "metadata": {},
   "outputs": [
    {
     "data": {
      "text/plain": [
       "a"
      ]
     },
     "metadata": {},
     "output_type": "display_data"
    }
   ],
   "source": [
    "@operators ScalarField a"
   ]
  },
  {
   "cell_type": "code",
   "execution_count": 4,
   "metadata": {},
   "outputs": [
    {
     "data": {
      "text/latex": [
       "$$ \\begin{equation}\n",
       "2 \\pi \\delta\\left( p - q \\right)\n",
       "\\end{equation}\n",
       " $$"
      ],
      "text/plain": [
       "2π*δ(p - q)"
      ]
     },
     "metadata": {},
     "output_type": "display_data"
    }
   ],
   "source": [
    "comm(a(p),a(q)')"
   ]
  },
  {
   "cell_type": "code",
   "execution_count": 5,
   "metadata": {},
   "outputs": [
    {
     "data": {
      "text/latex": [
       "$$ \\begin{equation}\n",
       "a _ q ^ \\dagger   a _ p   +   2 \\pi * \\delta ( p   -   q ) I\n",
       "\\end{equation}\n",
       " $$"
      ],
      "text/plain": [
       "a_q^† a_p + 2π*δ(p - q)I"
      ]
     },
     "metadata": {},
     "output_type": "display_data"
    }
   ],
   "source": [
    "normalorder(a(p) * a(q)')"
   ]
  },
  {
   "cell_type": "code",
   "execution_count": 6,
   "metadata": {},
   "outputs": [
    {
     "data": {
      "text/latex": [
       "$$ \\begin{equation}\n",
       "( E ( q )   /   ( 2 \\pi ) ) a _ q ^ \\dagger   a _ q\n",
       "\\end{equation}\n",
       " $$"
      ],
      "text/plain": [
       "(E(q) / (2π))a_q^† a_q"
      ]
     },
     "metadata": {},
     "output_type": "display_data"
    }
   ],
   "source": [
    "@syms E(p)\n",
    "ℋ = 1/QFT.twopi * E(q) * a(q)' * a(q)"
   ]
  },
  {
   "cell_type": "code",
   "execution_count": 7,
   "metadata": {},
   "outputs": [
    {
     "name": "stdout",
     "output_type": "stream",
     "text": [
      "\u001b[39mCoeff: E(q)*δ(q - p), Params: q - p, Term: a_q^† \u001b[39m\n",
      "\u001b[32mFound q - p deps q in E(q)*δ(q - p) \u001b[39m\n"
     ]
    },
    {
     "name": "stdout",
     "output_type": "stream",
     "text": [
      "\u001b[32mReplacing q with p \u001b[39m\n",
      "\u001b[32mFinal term is a_p^† \u001b[39m\n"
     ]
    },
    {
     "name": "stdout",
     "output_type": "stream",
     "text": [
      "\u001b[39mCoeff: E(q) / (2π), Params: E(q) / (2π), Term: a_q^† a_p^† a_q \u001b[39m\n",
      "UE Constructed w QFT.OperatorTerm: ∫dq ((E(q) / (2π))a_q^† a_p^† a_q) "
     ]
    },
    {
     "name": "stdout",
     "output_type": "stream",
     "text": [
      "\n",
      "\u001b[31mNo match found in E(q) / (2π): Adding ∫dq ((E(q) / (2π))a_q^† a_p^† a_q) \u001b[39m\n",
      "UE Constructed w QFT.OperatorTerm: ∫dq ((E(q) / (2π))a_q^† a_p^† a_q) \n",
      "UE Constructed w QFT.OperatorTerm: ∫dq ((E(q) / (2π))a_q^† a_p^† a_q) \n"
     ]
    },
    {
     "name": "stdout",
     "output_type": "stream",
     "text": [
      "0\n"
     ]
    },
    {
     "data": {
      "text/latex": [
       "$$ \\begin{equation}\n",
       "E ( p ) a _ p ^ \\dagger | 0 \\rangle\n",
       "\\end{equation}\n",
       " $$"
      ],
      "text/plain": [
       "E(p)a_p^†|0⟩"
      ]
     },
     "metadata": {},
     "output_type": "display_data"
    }
   ],
   "source": [
    "integrate(ℋ * a(p)', q) * vacuum()"
   ]
  },
  {
   "cell_type": "code",
   "execution_count": 8,
   "metadata": {},
   "outputs": [
    {
     "name": "stdout",
     "output_type": "stream",
     "text": [
      "\u001b[39mCoeff: E(q)*δ(q - k), Params: q - k, Term: a_q^† a_p^† \u001b[39m\n",
      "\u001b[32mFound q - k deps q in E(q)*δ(q - k) \u001b[39m\n",
      "\u001b[32mReplacing q with k \u001b[39m\n",
      "\u001b[32mFinal term is a_k^† a_p^† \u001b[39m\n"
     ]
    },
    {
     "name": "stdout",
     "output_type": "stream",
     "text": [
      "\u001b[39mCoeff: E(q)*δ(q - p), Params: q - p, Term: a_q^† a_k^† \u001b[39m\n",
      "\u001b[32mFound q - p deps q in E(q)*δ(q - p) \u001b[39m\n",
      "\u001b[32mReplacing q with p \u001b[39m\n",
      "\u001b[32mFinal term is a_p^† a_k^† \u001b[39m\n",
      "E(k)a_k^† a_p^†|0⟩\n",
      "E(p)a_p^† a_k^†|0⟩\n"
     ]
    },
    {
     "data": {
      "text/latex": [
       "$$ \\begin{equation}\n",
       "E ( k ) a _ k ^ \\dagger   a _ p ^ \\dagger | 0 \\rangle   +   E ( p ) a _ p ^ \\dagger   a _ k ^ \\dagger | 0 \\rangle\n",
       "\\end{equation}\n",
       " $$"
      ],
      "text/plain": [
       "E(k)a_k^† a_p^†|0⟩ + E(p)a_p^† a_k^†|0⟩"
      ]
     },
     "metadata": {},
     "output_type": "display_data"
    }
   ],
   "source": [
    "integrate(ℋ * a(p)' * a(k)' * vacuum(), q)"
   ]
  },
  {
   "cell_type": "code",
   "execution_count": 9,
   "metadata": {},
   "outputs": [
    {
     "data": {
      "text/latex": [
       "$$ \\begin{equation}\n",
       "a _{p - q} ^{\\dagger}\n",
       "\\end{equation}\n",
       " $$"
      ],
      "text/plain": [
       "a_{p - q}^†"
      ]
     },
     "metadata": {},
     "output_type": "display_data"
    }
   ],
   "source": [
    "@operators ScalarField a\n",
    "a(p-q)'"
   ]
  },
  {
   "cell_type": "code",
   "execution_count": 10,
   "metadata": {},
   "outputs": [
    {
     "data": {
      "text/latex": [
       "$$ \\begin{equation}\n",
       "( a _ p ) ^ 2   +   ( a _ p ^ \\dagger ) ^ 2\n",
       "\\end{equation}\n",
       " $$"
      ],
      "text/plain": [
       "(a_p)^2 + (a_p^†)^2"
      ]
     },
     "metadata": {},
     "output_type": "display_data"
    }
   ],
   "source": [
    "a(p)'^2 + a(p)^2"
   ]
  },
  {
   "cell_type": "code",
   "execution_count": 11,
   "metadata": {},
   "outputs": [
    {
     "data": {
      "text/latex": [
       "$$ \\begin{equation}\n",
       "p ^ 2 a _ { p   -   q } ^ \\dagger   a _ q   a _ p ^ \\dagger   +   5 i I\n",
       "\\end{equation}\n",
       " $$"
      ],
      "text/plain": [
       "p^2a_{p - q}^† a_q a_p^† + 5imI"
      ]
     },
     "metadata": {},
     "output_type": "display_data"
    }
   ],
   "source": [
    "p^2 * a(p-q)' * a(q) * a(p)' + 5 * im"
   ]
  },
  {
   "cell_type": "code",
   "execution_count": 12,
   "metadata": {},
   "outputs": [
    {
     "data": {
      "text/latex": [
       "$$ \\begin{equation}\n",
       "2 p * \\pi * \\delta ( q   -   p ) a _ { p   -   q } ^ \\dagger | 0 \\rangle   +   5 i | 0 \\rangle\n",
       "\\end{equation}\n",
       " $$"
      ],
      "text/plain": [
       "2p*π*δ(q - p)a_{p - q}^†|0⟩ + 5im|0⟩"
      ]
     },
     "metadata": {},
     "output_type": "display_data"
    }
   ],
   "source": [
    "(p * a(p-q)' * a(q) * a(p)' + 5 * im) * vacuum()"
   ]
  },
  {
   "cell_type": "code",
   "execution_count": 13,
   "metadata": {},
   "outputs": [
    {
     "data": {
      "text/latex": [
       "$$ \\begin{equation}\n",
       "5 | 0 \\rangle\n",
       "\\end{equation}\n",
       " $$"
      ],
      "text/plain": [
       "5|0⟩"
      ]
     },
     "metadata": {},
     "output_type": "display_data"
    }
   ],
   "source": [
    "5*vacuum()"
   ]
  },
  {
   "cell_type": "code",
   "execution_count": 14,
   "metadata": {},
   "outputs": [
    {
     "data": {
      "text/latex": [
       "$$ \\begin{equation}\n",
       "a _ q ^ \\dagger   a _ p   +   2 \\pi * \\delta ( p   -   q ) I\n",
       "\\end{equation}\n",
       " $$"
      ],
      "text/plain": [
       "a_q^† a_p + 2π*δ(p - q)I"
      ]
     },
     "metadata": {},
     "output_type": "display_data"
    }
   ],
   "source": [
    "normalorder(a(p) * a(q)')"
   ]
  },
  {
   "cell_type": "code",
   "execution_count": 15,
   "metadata": {},
   "outputs": [
    {
     "data": {
      "text/latex": [
       "$$ \\begin{equation}\n",
       "2 \\pi \\delta\\left( q - p \\right)\n",
       "\\end{equation}\n",
       " $$"
      ],
      "text/plain": [
       "2π*δ(q - p)"
      ]
     },
     "metadata": {},
     "output_type": "display_data"
    }
   ],
   "source": [
    "vacuum()' * a(p) * a(q)' * vacuum()"
   ]
  },
  {
   "cell_type": "code",
   "execution_count": 16,
   "metadata": {},
   "outputs": [
    {
     "data": {
      "text/latex": [
       "$$ \\begin{equation}\n",
       "j _ v   k _ { v   -   u } ^ \\dagger\n",
       "\\end{equation}\n",
       " $$"
      ],
      "text/plain": [
       "j_v k_{v - u}^†"
      ]
     },
     "metadata": {},
     "output_type": "display_data"
    }
   ],
   "source": [
    "import QFT.comm\n",
    "@field TestField\n",
    "@operators TestField j k\n",
    "@syms v u \n",
    "@comm [j(p), k(q)'] = j(p) * k(q)'\n",
    "comm(j(v), k(v-u)')"
   ]
  },
  {
   "cell_type": "code",
   "execution_count": 17,
   "metadata": {},
   "outputs": [
    {
     "data": {
      "text/latex": [
       "$$ \\begin{equation}\n",
       "j _ p   j _ q   k _ q ^ \\dagger   j _ p ^ \\dagger   +   k _ q   j _ p   k _ p ^ \\dagger   k _ q ^ \\dagger\n",
       "\\end{equation}\n",
       " $$"
      ],
      "text/plain": [
       "j_p j_q k_q^† j_p^† + k_q j_p k_p^† k_q^†"
      ]
     },
     "metadata": {},
     "output_type": "display_data"
    }
   ],
   "source": [
    "comm(j(p) * k(q)', k(q) * j(p)')"
   ]
  },
  {
   "cell_type": "code",
   "execution_count": 18,
   "metadata": {},
   "outputs": [
    {
     "data": {
      "text/latex": [
       "$$ \\begin{equation}\n",
       "j _ p   k _ p ^ \\dagger   k _ { - q }   k _ { p   +   q } ^ \\dagger   +   j _ p   j _ p ^ \\dagger   j _ { p   +   q }   k _ { - q } ^ \\dagger\n",
       "\\end{equation}\n",
       " $$"
      ],
      "text/plain": [
       "j_p k_p^† k_{-q} k_{p + q}^† + j_p j_p^† j_{p + q} k_{-q}^†"
      ]
     },
     "metadata": {},
     "output_type": "display_data"
    }
   ],
   "source": [
    "comm(j(p) * k(p+q)', j(p)' * k(-q))"
   ]
  },
  {
   "cell_type": "code",
   "execution_count": 19,
   "metadata": {},
   "outputs": [
    {
     "data": {
      "text/latex": [
       "$$ \\begin{equation}\n",
       "4 \\pi^{2} \\delta\\left( q_2 - p_1 \\right) \\delta\\left( q_1 - p_2 \\right) + 4 \\pi^{2} \\delta\\left( q_1 - p_1 \\right) \\delta\\left( q_2 - p_2 \\right)\n",
       "\\end{equation}\n",
       " $$"
      ],
      "text/plain": [
       "4(π^2)*δ(q₂ - p₁)*δ(q₁ - p₂) + 4(π^2)*δ(q₁ - p₁)*δ(q₂ - p₂)"
      ]
     },
     "metadata": {},
     "output_type": "display_data"
    }
   ],
   "source": [
    "@syms p₁ p₂ p₃ q₁ q₂ q₃\n",
    "f = vacuum()' * a(q₁) * a(q₂)\n",
    "i = a(p₂)' * a(p₁)' * vacuum()\n",
    "amp = f * i\n",
    "\n",
    "# integrate(integrate(integrate(amp, q₁), q₂), p₁)"
   ]
  },
  {
   "cell_type": "code",
   "execution_count": 21,
   "metadata": {},
   "outputs": [
    {
     "name": "stdout",
     "output_type": "stream",
     "text": [
      "\u001b[39mCoeff: 4(π^2)*δ(q₂ - p₁)*δ(q₁ - p₂) + 4(π^2)*δ(q₁ - p₁)*δ(q₂ - p₂), Params: q₁ - p₂, Term: I \u001b[39m\n",
      "\u001b[32mFound q₁ - p₂ deps q₁ in 4(π^2)*δ(q₂ - p₁)*δ(q₁ - p₂) + 4(π^2)*δ(q₁ - p₁)*δ(q₂ - p₂) \u001b[39m\n",
      "\u001b[32mReplacing q₁ with p₂ \u001b[39m\n",
      "\u001b[32mFinal term is I \u001b[39m\n"
     ]
    },
    {
     "data": {
      "text/latex": [
       "$$ \\begin{equation}\n",
       "( 4 ( \\pi ^ 2 ) * \\delta ( q _2   -   p _1 )   +   4 ( \\pi ^ 2 ) * \\delta ( p _2   -   p _1 ) * \\delta ( q _2   -   p _2 ) ) I\n",
       "\\end{equation}\n",
       " $$"
      ],
      "text/plain": [
       "(4(π^2)*δ(q₂ - p₁) + 4(π^2)*δ(p₂ - p₁)*δ(q₂ - p₂))I"
      ]
     },
     "metadata": {},
     "output_type": "display_data"
    }
   ],
   "source": [
    "integrate(amp, q₁)"
   ]
  },
  {
   "cell_type": "code",
   "execution_count": 22,
   "metadata": {},
   "outputs": [
    {
     "name": "stdout",
     "output_type": "stream",
     "text": [
      "\u001b[39mCoeff: 8π*δ(q - p), Params: q - p, Term: a_v^† \u001b[39m\n",
      "\u001b[32mFound q - p deps q in 8π*δ(q - p) \u001b[39m\n",
      "\u001b[32mReplacing q with p \u001b[39m\n",
      "\u001b[32mFinal term is a_v^† \u001b[39m\n",
      "\u001b[39mCoeff: 8π*δ(q - v), Params: q - v, Term: a_p^† \u001b[39m\n",
      "\u001b[32mFound q - v deps q in 8π*δ(q - v) \u001b[39m\n",
      "\u001b[32mReplacing q with v \u001b[39m\n",
      "\u001b[32mFinal term is a_p^† \u001b[39m\n",
      "8πa_v^†|0⟩\n",
      "8πa_p^†|0⟩\n"
     ]
    },
    {
     "data": {
      "text/latex": [
       "$$ \\begin{equation}\n",
       "8 \\pi a _ v ^ \\dagger | 0 \\rangle   +   8 \\pi a _ p ^ \\dagger | 0 \\rangle\n",
       "\\end{equation}\n",
       " $$"
      ],
      "text/plain": [
       "8πa_v^†|0⟩ + 8πa_p^†|0⟩"
      ]
     },
     "metadata": {},
     "output_type": "display_data"
    }
   ],
   "source": [
    "integrate(4 * a(q) * a(p)' * a(v)' * vacuum(), q)"
   ]
  },
  {
   "cell_type": "code",
   "execution_count": 23,
   "metadata": {},
   "outputs": [
    {
     "data": {
      "text/latex": [
       "$$ \\begin{equation}\n",
       "4 \\pi * \\delta ( q   -   p ) a _ u ^ \\dagger | 0 \\rangle   +   4 \\pi * \\delta ( q   -   u ) a _ p ^ \\dagger | 0 \\rangle\n",
       "\\end{equation}\n",
       " $$"
      ],
      "text/plain": [
       "4π*δ(q - p)a_u^†|0⟩ + 4π*δ(q - u)a_p^†|0⟩"
      ]
     },
     "metadata": {},
     "output_type": "display_data"
    }
   ],
   "source": [
    "2 * a(q) * a(u)' * a(p)' * vacuum()"
   ]
  },
  {
   "cell_type": "code",
   "execution_count": 24,
   "metadata": {},
   "outputs": [
    {
     "data": {
      "text/plain": [
       "comm (generic function with 20 methods)"
      ]
     },
     "metadata": {},
     "output_type": "display_data"
    }
   ],
   "source": [
    "@field FreeVectorField\n",
    "@operator FreeVectorField o\n",
    "@syms p q μ ν η(μ,ν)\n",
    "@comm [o(p,μ), o(q,ν)'] = - η(μ,ν) * 2 * E(p) * (QFT.twopi)^3 * δ(p-q)"
   ]
  },
  {
   "cell_type": "code",
   "execution_count": 25,
   "metadata": {},
   "outputs": [
    {
     "data": {
      "text/latex": [
       "$$ \\begin{equation}\n",
       "16 \\pi^{3} E\\left( p \\right) \\delta\\left( p - q \\right) \\eta\\left( \\mu, \\mu \\right)\n",
       "\\end{equation}\n",
       " $$"
      ],
      "text/plain": [
       "(16//1)*(π^3)*E(p)*δ(p - q)*η(μ, μ)"
      ]
     },
     "metadata": {},
     "output_type": "display_data"
    }
   ],
   "source": [
    "comm(o(p,μ), o(q,μ)')"
   ]
  },
  {
   "cell_type": "code",
   "execution_count": 26,
   "metadata": {},
   "outputs": [
    {
     "data": {
      "text/plain": [
       "comm (generic function with 21 methods)"
      ]
     },
     "metadata": {},
     "output_type": "display_data"
    }
   ],
   "source": [
    "@field DiracField\n",
    "@operators DiracField b c\n",
    "@comm [b(p), c(q)'] = 2 * E(p) * (QFT.twopi)^3 * δ(p-q)"
   ]
  },
  {
   "cell_type": "code",
   "execution_count": 33,
   "metadata": {},
   "outputs": [
    {
     "name": "stdout",
     "output_type": "stream",
     "text": [
      "UE Constructed w QFT.OperatorTerm: ∫dp (exp((0 + 1im)*p)a_p^† + exp((0 - 1im)*p)a_p) \n",
      "UE Constructed w QFT.OperatorTerm: ∫dp (exp((0 + 1im)*p)c_p^† + exp((0 - 1im)*p)b_p) \n"
     ]
    },
    {
     "data": {
      "text/latex": [
       "$$ \\begin{equation}\n",
       "\\int \\mathrm{d}p \\left(exp((0 + 1im)*p)c_p^\\dagger + exp((0 - 1im)*p)b_p\\right)\n",
       "\\end{equation}\n",
       " $$"
      ],
      "text/plain": [
       "∫dp (exp((0 + 1im)*p)c_p^† + exp((0 - 1im)*p)b_p) "
      ]
     },
     "metadata": {},
     "output_type": "display_data"
    }
   ],
   "source": [
    "ϕ = QFT.UnevaluatedIntegral(a(p) * exp(-im * p) + a(p)' * exp(1im * p), p)\n",
    "ψ = QFT.UnevaluatedIntegral(b(p) * exp(-im * p) + c(p)' * exp(1im * p), p)"
   ]
  },
  {
   "cell_type": "code",
   "execution_count": 42,
   "metadata": {},
   "outputs": [
    {
     "name": "stdout",
     "output_type": "stream",
     "text": [
      "UE Constructed w QFT.OperatorTerm: ∫dp (exp((0 - 1im)*p)c_p + exp((0 + 1im)*p)b_p^†) \n"
     ]
    },
    {
     "ename": "MethodError",
     "evalue": "MethodError: no method matching QFT.OperatorProduct(::Vector{QFT.UnevaluatedIntegral})\nClosest candidates are:\n  QFT.OperatorProduct(!Matched::Union{QFT.Operator, QFT.OperatorPower}...) at /home/cian/.julia/dev/QFT/src/Operators/OperatorProduct.jl:15\n  QFT.OperatorProduct(!Matched::Vector{Union{QFT.Operator, QFT.OperatorPower}}) at /home/cian/.julia/dev/QFT/src/Operators/OperatorProduct.jl:4",
     "output_type": "error",
     "traceback": [
      "MethodError: no method matching QFT.OperatorProduct(::Vector{QFT.UnevaluatedIntegral})\n",
      "Closest candidates are:\n",
      "  QFT.OperatorProduct(!Matched::Union{QFT.Operator, QFT.OperatorPower}...) at /home/cian/.julia/dev/QFT/src/Operators/OperatorProduct.jl:15\n",
      "  QFT.OperatorProduct(!Matched::Vector{Union{QFT.Operator, QFT.OperatorPower}}) at /home/cian/.julia/dev/QFT/src/Operators/OperatorProduct.jl:4\n",
      "\n",
      "Stacktrace:\n",
      " [1] *(a::QFT.UnevaluatedIntegral, b::QFT.UnevaluatedIntegral)\n",
      "   @ QFT ~/.julia/dev/QFT/src/Integrals/Integral.jl:182\n",
      " [2] top-level scope\n",
      "   @ ~/.julia/dev/QFT/test.ipynb:5"
     ]
    }
   ],
   "source": [
    "@syms g\n",
    "# ℋᵢₙₜ = g * ψ * ψ' * ϕ\n",
    "# display(ϕ'.integrand)\n",
    "# display(ϕ.integrand)\n",
    "ϕ * ψ'"
   ]
  },
  {
   "cell_type": "code",
   "execution_count": 37,
   "metadata": {},
   "outputs": [
    {
     "data": {
      "text/plain": [
       "exp((0 - 1im)*p)"
      ]
     },
     "metadata": {},
     "output_type": "display_data"
    }
   ],
   "source": [
    "exp(im * p)'"
   ]
  },
  {
   "cell_type": "code",
   "execution_count": 38,
   "metadata": {},
   "outputs": [
    {
     "data": {
      "text/plain": [
       "SymbolicUtils.Term{Number, Nothing}"
      ]
     },
     "metadata": {},
     "output_type": "display_data"
    }
   ],
   "source": [
    "@syms x\n",
    "typeof(exp(im * x))"
   ]
  },
  {
   "cell_type": "code",
   "execution_count": 131,
   "metadata": {},
   "outputs": [
    {
     "data": {
      "text/plain": [
       "SymbolicUtils.Sym{Number, Nothing}"
      ]
     },
     "metadata": {},
     "output_type": "display_data"
    }
   ],
   "source": [
    "typeof(x)"
   ]
  },
  {
   "cell_type": "code",
   "execution_count": 132,
   "metadata": {},
   "outputs": [
    {
     "data": {
      "text/plain": [
       "SymbolicUtils.Sym{Number, Nothing}"
      ]
     },
     "metadata": {},
     "output_type": "display_data"
    }
   ],
   "source": [
    "typeof(p)"
   ]
  },
  {
   "cell_type": "code",
   "execution_count": null,
   "metadata": {},
   "outputs": [],
   "source": []
  }
 ],
 "metadata": {
  "kernelspec": {
   "display_name": "Julia 1.6.2",
   "language": "julia",
   "name": "julia-1.6"
  },
  "language_info": {
   "file_extension": ".jl",
   "mimetype": "application/julia",
   "name": "julia",
   "version": "1.6.2"
  },
  "orig_nbformat": 4
 },
 "nbformat": 4,
 "nbformat_minor": 2
}
