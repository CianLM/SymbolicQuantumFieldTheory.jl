{
 "cells": [
  {
   "cell_type": "code",
   "execution_count": 1,
   "metadata": {},
   "outputs": [
    {
     "name": "stderr",
     "output_type": "stream",
     "text": [
      "┌ Info: Precompiling QFT [49c623b1-9a12-4bf7-99dd-267ae146fd9d]\n",
      "└ @ Base loading.jl:1342\n"
     ]
    }
   ],
   "source": [
    "using QFT\n",
    "using Symbolics"
   ]
  },
  {
   "cell_type": "code",
   "execution_count": 2,
   "metadata": {},
   "outputs": [
    {
     "data": {
      "text/plain": [
       "(𝚕, 𝚛)"
      ]
     },
     "execution_count": 2,
     "metadata": {},
     "output_type": "execute_result"
    }
   ],
   "source": [
    "@field TestField\n",
    "@operators TestField b c\n",
    "@syms p q\n",
    "@syms 𝚕 𝚛"
   ]
  },
  {
   "cell_type": "code",
   "execution_count": 19,
   "metadata": {},
   "outputs": [
    {
     "name": "stdout",
     "output_type": "stream",
     "text": [
      "[a(p),(a(q))'] = twopi * δ(p - q)\n",
      "a with (noadj) index p is a_p\n",
      "a with (noadj) index q is a_q\n",
      "Operator: a_q^†: a (q,) true\n"
     ]
    },
    {
     "data": {
      "text/plain": [
       "comm (generic function with 1 method)"
      ]
     },
     "execution_count": 19,
     "metadata": {},
     "output_type": "execute_result"
    }
   ],
   "source": [
    "sym_pi = SymbolicUtils.Sym{Number}(:π)\n",
    "@comm [a(p),a(q)'] = twopi * δ(p - q)"
   ]
  },
  {
   "cell_type": "code",
   "execution_count": 19,
   "metadata": {},
   "outputs": [
    {
     "data": {
      "text/html": [
       "# 1 method for generic function <b>comm</b>:<ul><li> comm(𝚕::<b>QFT.Operator{QFT.ScalarField}</b>, 𝚛::<b>QFT.Operator{QFT.ScalarField}</b>) in Main at <a href=\"https://github.com/CianLM/QFT.jl/tree/5261bafc3ca896027bb45ec1727bd18bdbc047a4//src/Operators/AbstractOperator.jl#L61\" target=\"_blank\">/home/cian/.julia/dev/QFT/src/Operators/AbstractOperator.jl:61</a></li> </ul>"
      ],
      "text/plain": [
       "# 1 method for generic function \"comm\":\n",
       "[1] comm(𝚕::QFT.Operator{QFT.ScalarField}, 𝚛::QFT.Operator{QFT.ScalarField}) in Main at /home/cian/.julia/dev/QFT/src/Operators/AbstractOperator.jl:61"
      ]
     },
     "execution_count": 19,
     "metadata": {},
     "output_type": "execute_result"
    }
   ],
   "source": [
    "methods(comm)"
   ]
  },
  {
   "cell_type": "code",
   "execution_count": 5,
   "metadata": {},
   "outputs": [
    {
     "data": {
      "text/plain": [
       "a"
      ]
     },
     "execution_count": 5,
     "metadata": {},
     "output_type": "execute_result"
    }
   ],
   "source": [
    "@operators QFT.ScalarField a"
   ]
  },
  {
   "cell_type": "code",
   "execution_count": 21,
   "metadata": {},
   "outputs": [
    {
     "name": "stdout",
     "output_type": "stream",
     "text": [
      "a with (noadj) index p is a_p\n",
      "a with (noadj) index q is a_q\n",
      "Operator: a_q^†: a (q,) true\n",
      "comm called with [a_p, a_q^†]\n",
      "a with (noadj) index p is a_p\n",
      "a with (noadj) index p is a_p\n",
      "a with (noadj) index q is a_q\n",
      "Operator: a_q^†: a (q,) true\n",
      "a with (noadj) index q is a_q\n",
      "Operator: a_q^†: a (q,) true\n",
      "a with (noadj) index p is a_p\n",
      "a with (noadj) index p is a_p\n",
      "a with (noadj) index q is a_q\n",
      "Operator: a_q^†: a (q,) true\n",
      "substituting...\n",
      "a with (noadj) index p is a_p\n",
      "a with (noadj) index q is a_q\n",
      "Operator: a_q^†: a (q,) true\n",
      "a with (noadj) index q is a_q\n",
      "Operator: a_q^†: a (q,) true\n"
     ]
    },
    {
     "data": {
      "text/latex": [
       "$$ \\begin{equation}\n",
       "2 \\pi \\delta\\left( p - q \\right)\n",
       "\\end{equation}\n",
       " $$"
      ],
      "text/plain": [
       "2π*δ(p - q)"
      ]
     },
     "execution_count": 21,
     "metadata": {},
     "output_type": "execute_result"
    }
   ],
   "source": [
    "comm(a(p),a(q)')"
   ]
  },
  {
   "cell_type": "code",
   "execution_count": 10,
   "metadata": {},
   "outputs": [
    {
     "name": "stdout",
     "output_type": "stream",
     "text": [
      "a with (noadj) index p is a_p\n",
      "a with (noadj) index q is a_q\n",
      "Operator: a_q^†: a (q,) true\n",
      "a_q^† a_p + 2π*δ(p - q)I\n",
      "UE Constructed w QFT.OperatorTerm: ∫dq (a_q^† a_p) \n",
      "UE Constructed w QFT.OperatorTerm: ∫dq (a_q^† a_p) \n"
     ]
    },
    {
     "data": {
      "text/latex": [
       "∫dq (a_q^† a_p)  + 2πI"
      ],
      "text/plain": [
       "∫dq (a_q^† a_p)  + 2πI"
      ]
     },
     "execution_count": 10,
     "metadata": {},
     "output_type": "execute_result"
    }
   ],
   "source": [
    "integrate(a(p) * a(q)', q)"
   ]
  },
  {
   "cell_type": "code",
   "execution_count": 15,
   "metadata": {},
   "outputs": [
    {
     "name": "stdout",
     "output_type": "stream",
     "text": [
      "a with (noadj) index q is a_q\n",
      "Operator: a_q^†: a (q,) true\n",
      "a with (noadj) index q is a_q\n",
      "a with (noadj) index p - q is a_{p - q}\n",
      "Operator: a_{p - q}^†: a (p - q,) true\n"
     ]
    },
    {
     "data": {
      "text/latex": [
       "a_q^† a_q a_{p - q}^†"
      ],
      "text/plain": [
       "a_q^† a_q a_{p - q}^†"
      ]
     },
     "execution_count": 15,
     "metadata": {},
     "output_type": "execute_result"
    }
   ],
   "source": [
    "x = a(q)' * a(q) * a(p-q)'"
   ]
  },
  {
   "cell_type": "code",
   "execution_count": 20,
   "metadata": {},
   "outputs": [
    {
     "data": {
      "text/latex": [
       "pa_q^† a_q a_{p - q}^† a_q^† a_q a_{p - q}^† + 5I + 2a_q^† a_q a_{p - q}^†"
      ],
      "text/plain": [
       "pa_q^† a_q a_{p - q}^† a_q^† a_q a_{p - q}^† + 5I + 2a_q^† a_q a_{p - q}^†"
      ]
     },
     "execution_count": 20,
     "metadata": {},
     "output_type": "execute_result"
    }
   ],
   "source": [
    "p*x*x + 2*x + 5"
   ]
  },
  {
   "cell_type": "code",
   "execution_count": 25,
   "metadata": {},
   "outputs": [
    {
     "name": "stdout",
     "output_type": "stream",
     "text": [
      "a with (noadj) index q is a_q\n",
      "a with (noadj) index k is a_k\n",
      "Operator: a_k^†: a (k,) true\n"
     ]
    },
    {
     "ename": "LoadError",
     "evalue": "MethodError: no method matching comm(::QFT.OperatorPower{ScalarField}, ::QFT.Operator{ScalarField})\n\u001b[0mClosest candidates are:\n\u001b[0m  comm(\u001b[91m::QFT.Operator{ScalarField}\u001b[39m, ::QFT.Operator{ScalarField}) at /home/cian/.julia/dev/QFT/src/Operators/AbstractOperator.jl:61",
     "output_type": "error",
     "traceback": [
      "MethodError: no method matching comm(::QFT.OperatorPower{ScalarField}, ::QFT.Operator{ScalarField})\n\u001b[0mClosest candidates are:\n\u001b[0m  comm(\u001b[91m::QFT.Operator{ScalarField}\u001b[39m, ::QFT.Operator{ScalarField}) at /home/cian/.julia/dev/QFT/src/Operators/AbstractOperator.jl:61",
      "",
      "Stacktrace:",
      " [1] top-level scope",
      "   @ In[25]:2",
      " [2] eval",
      "   @ ./boot.jl:360 [inlined]",
      " [3] include_string(mapexpr::typeof(REPL.softscope), mod::Module, code::String, filename::String)",
      "   @ Base ./loading.jl:1116"
     ]
    }
   ],
   "source": [
    "@syms k\n",
    "comm(a(q)^50,a(k)')"
   ]
  },
  {
   "cell_type": "code",
   "execution_count": null,
   "metadata": {},
   "outputs": [],
   "source": []
  }
 ],
 "metadata": {
  "kernelspec": {
   "display_name": "Julia 1.6.2",
   "language": "julia",
   "name": "julia-1.6"
  },
  "language_info": {
   "file_extension": ".jl",
   "mimetype": "application/julia",
   "name": "julia",
   "version": "1.6.2"
  },
  "orig_nbformat": 4
 },
 "nbformat": 4,
 "nbformat_minor": 2
}
